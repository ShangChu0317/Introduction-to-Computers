{
  "nbformat": 4,
  "nbformat_minor": 0,
  "metadata": {
    "colab": {
      "name": "判別式作業.ipynb",
      "provenance": [],
      "authorship_tag": "ABX9TyPsSb3GHpt11gzopfuTKpnR",
      "include_colab_link": true
    },
    "kernelspec": {
      "name": "python3",
      "display_name": "Python 3"
    },
    "language_info": {
      "name": "python"
    }
  },
  "cells": [
    {
      "cell_type": "markdown",
      "metadata": {
        "id": "view-in-github",
        "colab_type": "text"
      },
      "source": [
        "<a href=\"https://colab.research.google.com/github/ShangChu0317/Introduction-to-Computers/blob/main/%E5%88%A4%E5%88%A5%E5%BC%8F%E4%BD%9C%E6%A5%AD.ipynb\" target=\"_parent\"><img src=\"https://colab.research.google.com/assets/colab-badge.svg\" alt=\"Open In Colab\"/></a>"
      ]
    },
    {
      "cell_type": "code",
      "execution_count": 2,
      "metadata": {
        "colab": {
          "base_uri": "https://localhost:8080/"
        },
        "id": "Plj2UZ_-ZJaq",
        "outputId": "e1ced5a0-930e-4b5d-bc13-6eb84e136d2f"
      },
      "outputs": [
        {
          "output_type": "stream",
          "name": "stdout",
          "text": [
            "請輸入消費者身上的金額500\n",
            "可購買電腦\n"
          ]
        }
      ],
      "source": [
        "money=int(input('請輸入消費者身上的金額'))\n",
        "if(money<100):\n",
        "  print(\"金額不足\")\n",
        "elif(money>=100and money<200):\n",
        "  print(\"可購買手機\")\n",
        "elif(money>=200and money<300):\n",
        "  print(\"可購買平板\")\n",
        "else:\n",
        "  (money>=300and money<400)\n",
        "  print(\"可購買電腦\")"
      ]
    }
  ]
}